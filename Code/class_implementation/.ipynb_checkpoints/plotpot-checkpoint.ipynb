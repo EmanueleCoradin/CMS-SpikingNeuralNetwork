{
 "cells": [
  {
   "cell_type": "code",
   "execution_count": 10,
   "metadata": {},
   "outputs": [],
   "source": [
    "#read potential.csv\n",
    "#%matplotlib ipympl\n",
    "import numpy as np\n",
    "import matplotlib.pyplot as plt\n",
    "import pandas as pd\n",
    "import csv\n",
    "\n",
    "# read data from csv file\n",
    "data = pd.read_csv('potentials.csv')\n",
    "data.describe()\n"
   ]
  },
  {
   "cell_type": "code",
   "execution_count": 11,
   "metadata": {},
   "outputs": [],
   "source": [
    "data['Time'][data['Event'] == 5].shape"
   ]
  },
  {
   "cell_type": "code",
   "execution_count": 12,
   "metadata": {},
   "outputs": [],
   "source": [
    "fig, ax = plt.subplots(5, 2)\n",
    "#fig size\n",
    "fig.set_size_inches(10, 10)\n",
    "\n",
    "# plot potential vs. time\n",
    "for EV in range(1, 11):\n",
    "    #plot in a matrix\n",
    "    plt.subplot(5, 2, EV)\n",
    "    #plt.scatter(data['Time'][data['Event'] == EV], data['V(t)_6'][data['Event'] == EV], c='b', marker='.',s=2)\n",
    "    plt.plot(data['Time'][data['Event'] == EV], data['V(t)_6'][data['Event'] == EV], c='b', marker='None')\n",
    "    plt.plot(data['Time'][data['Event'] == EV], data['V(t)_4'][data['Event'] == EV], c='r', marker='None')\n",
    "\n",
    "    #plot trashhold\n",
    "    plt.axhline(y=0.1, color='r', linestyle='-')\n",
    "    plt.xlabel('Time (s)')\n",
    "    plt.ylabel('Potential (V)')\n",
    "    plt.title('Event ' + str(EV))\n",
    "plt.tight_layout()\n",
    "plt.savefig(\"V6.pdf\")\n",
    "plt.show()"
   ]
  },
  {
   "cell_type": "code",
   "execution_count": 13,
   "metadata": {},
   "outputs": [],
   "source": [
    "data.hist(\"Time\");"
   ]
  },
  {
   "cell_type": "code",
   "execution_count": 14,
   "metadata": {},
   "outputs": [],
   "source": [
    "plt.plot(data['Time'][data['Event'] == 7], data['V(t)_6'][data['Event'] == 7], c='b', marker='None')\n",
    "plt.show()\n"
   ]
  },
  {
   "cell_type": "code",
   "execution_count": null,
   "metadata": {},
   "outputs": [],
   "source": []
  }
 ],
 "metadata": {
  "kernelspec": {
   "display_name": "Python 3 (ipykernel)",
   "language": "python",
   "name": "python3"
  },
  "language_info": {
   "codemirror_mode": {
    "name": "ipython",
    "version": 3
   },
   "file_extension": ".py",
   "mimetype": "text/x-python",
   "name": "python",
   "nbconvert_exporter": "python",
   "pygments_lexer": "ipython3",
   "version": "3.10.12"
  }
 },
 "nbformat": 4,
 "nbformat_minor": 2
}
