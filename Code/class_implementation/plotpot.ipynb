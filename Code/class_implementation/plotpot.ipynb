{
 "cells": [
  {
   "cell_type": "code",
   "execution_count": 1,
   "metadata": {},
   "outputs": [
    {
     "name": "stderr",
     "output_type": "stream",
     "text": [
      "UsageError: Line magic function `%matscatterlib` not found.\n"
     ]
    }
   ],
   "source": [
    "#read potential.csv\n",
    "\n",
    "%matplotlib ipympl\n",
    "import numpy as np\n",
    "import matplotlib.pyplot as plt\n",
    "import pandas as pd\n",
    "import csv\n",
    "\n",
    "# read data from csv file\n",
    "data = pd.read_csv('potentials.csv')\n",
    "data.describe()\n"
   ]
  },
  {
   "cell_type": "code",
   "execution_count": 2,
   "metadata": {},
   "outputs": [
    {
     "ename": "NameError",
     "evalue": "name 'data' is not defined",
     "output_type": "error",
     "traceback": [
      "\u001b[0;31m---------------------------------------------------------------------------\u001b[0m",
      "\u001b[0;31mNameError\u001b[0m                                 Traceback (most recent call last)",
      "Cell \u001b[0;32mIn[2], line 1\u001b[0m\n\u001b[0;32m----> 1\u001b[0m data[\u001b[39m'\u001b[39m\u001b[39mTime\u001b[39m\u001b[39m'\u001b[39m][data[\u001b[39m'\u001b[39m\u001b[39mEvent\u001b[39m\u001b[39m'\u001b[39m] \u001b[39m==\u001b[39m \u001b[39m5\u001b[39m]\u001b[39m.\u001b[39mshape\n",
      "\u001b[0;31mNameError\u001b[0m: name 'data' is not defined"
     ]
    }
   ],
   "source": [
    "data['Time'][data['Event'] == 5].shape"
   ]
  },
  {
   "cell_type": "code",
   "execution_count": null,
   "metadata": {},
   "outputs": [],
   "source": [
    "#fig, ax = plt.subplots(6, 2)\n",
    "#fig size\n",
    "#fig.set_size_inches(11, 9)\n",
    "\n",
    "# scatter potential vs. time\n",
    "for EV in range(1, 13):\n",
    "    #plot in a matrix\n",
    "    plt.subplot(6, 2, EV)\n",
    "    #plt.scatter(data['Time'][data['Event'] == EV], data['V(t)_6'][data['Event'] == EV], c='b', marker='.',s=2)\n",
    "    plt.plot(data['Time'][data['Event'] == EV], data['V(t)_6'][data['Event'] == EV], c='red', marker='None', alpha=0.5)\n",
    "    plt.plot(data['Time'][data['Event'] == EV], data['V(t)_7'][data['Event'] == EV], c='orange', marker='None', alpha=0.5)\n",
    "    plt.plot(data['Time'][data['Event'] == EV], data['V(t)_8'][data['Event'] == EV], c='yellow', marker='None', alpha=0.5)\n",
    "    plt.plot(data['Time'][data['Event'] == EV], data['V(t)_9'][data['Event'] == EV], c='green', marker='None', alpha=0.5)\n",
    "    plt.plot(data['Time'][data['Event'] == EV], data['V(t)_10'][data['Event'] == EV], c='blue', marker='None', alpha=0.5)\n",
    "    plt.plot(data['Time'][data['Event'] == EV], data['V(t)_11'][data['Event'] == EV], c='purple', marker='None', alpha=0.5)\n",
    "\n",
    "    #if EV == 1:\n",
    "    #    plt.xlim(0.48e-8, 0.59e-8)\n",
    "\n",
    "    #plot trashhold\n",
    "    plt.axhline(y=0.1, color='r', linestyle='-')\n",
    "    plt.xlabel('Time (s)')\n",
    "    plt.ylabel('Potential (V)')\n",
    "    plt.title('Event ' + str(EV))\n",
    "plt.tight_layout()\n",
    "#plt.savefig(\"V6.pdf\")\n",
    "plt.show()"
   ]
  },
  {
   "cell_type": "code",
   "execution_count": null,
   "metadata": {},
   "outputs": [],
   "source": [
    "fig, ax = plt.subplots(6, 2)\n",
    "#fig size\n",
    "#fig.set_size_inches(12, 11)\n",
    "\n",
    "# plot potential vs. time\n",
    "for EV in range(1, 13):\n",
    "    #plot in a matrix\n",
    "    plt.subplot(6, 2, EV)\n",
    "    #plt.scatter(data['Time'][data['Event'] == EV], data['V(t)_6'][data['Event'] == EV], c='b', marker='.',s=2)\n",
    "\n",
    "    plt.plot(data['Time'][data['Event'] == EV], data['V(t)_0'][data['Event'] == EV], c='purple', marker='None', alpha=0.5)\n",
    "    plt.plot(data['Time'][data['Event'] == EV], data['V(t)_1'][data['Event'] == EV], c='red', marker='None', alpha=0.5)\n",
    "    plt.plot(data['Time'][data['Event'] == EV], data['V(t)_2'][data['Event'] == EV], c='orange', marker='None', alpha=0.5)\n",
    "    plt.plot(data['Time'][data['Event'] == EV], data['V(t)_3'][data['Event'] == EV], c='black', marker='None', alpha=0.5)\n",
    "    plt.plot(data['Time'][data['Event'] == EV], data['V(t)_4'][data['Event'] == EV], c='green', marker='None', alpha=0.5)\n",
    "    plt.plot(data['Time'][data['Event'] == EV], data['V(t)_5'][data['Event'] == EV], c='blue', marker='None', alpha=0.5)\n",
    "\n",
    "    # if EV == 4:\n",
    "    #     plt.xlim(0.97e-7, 1e-7)\n",
    "\n",
    "    #plot threshold\n",
    "    plt.axhline(y=0.1, color='r', linestyle='-')\n",
    "    plt.xlabel('Time (s)')\n",
    "    plt.ylabel('Potential (V)')\n",
    "    plt.title('Event ' + str(EV))\n",
    "plt.tight_layout()\n",
    "#plt.savefig(\"V6.pdf\")\n",
    "plt.show()"
   ]
  },
  {
   "cell_type": "code",
   "execution_count": null,
   "metadata": {},
   "outputs": [],
   "source": [
    "'''\n",
    "\n",
    "\n",
    "EV=11\n",
    "plt.subplot(1, 1, 1)\n",
    "plt.plot(data['Time'][data['Event'] == EV], data['V(t)_0'][data['Event'] == EV], c='purple', marker='None', alpha=0.5)\n",
    "plt.plot(data['Time'][data['Event'] == EV], data['V(t)_1'][data['Event'] == EV], c='red', marker='None', alpha=0.5)\n",
    "plt.plot(data['Time'][data['Event'] == EV], data['V(t)_2'][data['Event'] == EV], c='orange', marker='None', alpha=0.5)\n",
    "plt.plot(data['Time'][data['Event'] == EV], data['V(t)_3'][data['Event'] == EV], c='black', marker='None', alpha=0.5)\n",
    "plt.plot(data['Time'][data['Event'] == EV], data['V(t)_4'][data['Event'] == EV], c='green', marker='None', alpha=0.5)\n",
    "plt.plot(data['Time'][data['Event'] == EV], data['V(t)_5'][data['Event'] == EV], c='blue', marker='None', alpha=0.5)\n",
    "plt.axhline(y=0.1, color='r', linestyle='-')\n",
    "\n",
    "'''"
   ]
  },
  {
   "cell_type": "code",
   "execution_count": null,
   "metadata": {},
   "outputs": [],
   "source": []
  }
 ],
 "metadata": {
  "kernelspec": {
   "display_name": "Python 3",
   "language": "python",
   "name": "python3"
  },
  "language_info": {
   "codemirror_mode": {
    "name": "ipython",
    "version": 3
   },
   "file_extension": ".py",
   "mimetype": "text/x-python",
   "name": "python",
   "nbconvert_exporter": "python",
   "pygments_lexer": "ipython3",
   "version": "3.10.12"
  }
 },
 "nbformat": 4,
 "nbformat_minor": 2
}
