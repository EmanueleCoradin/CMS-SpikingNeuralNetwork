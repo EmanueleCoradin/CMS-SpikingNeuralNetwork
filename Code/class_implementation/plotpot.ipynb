{
 "cells": [
  {
   "cell_type": "code",
   "execution_count": null,
   "metadata": {},
   "outputs": [],
   "source": [
    "#read potential.csv\n",
    "\n",
    "%matplotlib ipympl\n",
    "import numpy as np\n",
    "import matplotlib.pyplot as plt\n",
    "import pandas as pd\n",
    "import csv\n",
    "\n",
    "# read data from csv file\n",
    "data = pd.read_csv('potentials.csv')\n",
    "data.describe()\n"
   ]
  },
  {
   "cell_type": "code",
   "execution_count": null,
   "metadata": {},
   "outputs": [],
   "source": [
    "data['Time'][data['Event'] == 5].shape"
   ]
  },
  {
   "cell_type": "code",
   "execution_count": null,
   "metadata": {},
   "outputs": [],
   "source": [
    "#fig, ax = plt.subplots(6, 2)\n",
    "#fig size\n",
    "#fig.set_size_inches(11, 9)\n",
    "\n",
    "# scatter potential vs. time\n",
    "for EV in range(1, 13):\n",
    "    #plot in a matrix\n",
    "    plt.subplot(6, 2, EV)\n",
    "    #plt.scatter(data['Time'][data['Event'] == EV], data['V(t)_6'][data['Event'] == EV], c='b', marker='.',s=2)\n",
    "    plt.plot(data['Time'][data['Event'] == EV], data['V(t)_6'][data['Event'] == EV], c='red', marker='None', alpha=0.5)\n",
    "    plt.plot(data['Time'][data['Event'] == EV], data['V(t)_7'][data['Event'] == EV], c='orange', marker='None', alpha=0.5)\n",
    "    plt.plot(data['Time'][data['Event'] == EV], data['V(t)_8'][data['Event'] == EV], c='yellow', marker='None', alpha=0.5)\n",
    "    plt.plot(data['Time'][data['Event'] == EV], data['V(t)_9'][data['Event'] == EV], c='green', marker='None', alpha=0.5)\n",
    "    plt.plot(data['Time'][data['Event'] == EV], data['V(t)_10'][data['Event'] == EV], c='blue', marker='None', alpha=0.5)\n",
    "    plt.plot(data['Time'][data['Event'] == EV], data['V(t)_11'][data['Event'] == EV], c='purple', marker='None', alpha=0.5)\n",
    "\n",
    "    #if EV == 1:\n",
    "    #    plt.xlim(0.48e-8, 0.59e-8)\n",
    "\n",
    "    #plot trashhold\n",
    "    plt.axhline(y=0.1, color='r', linestyle='-')\n",
    "    plt.xlabel('Time (s)')\n",
    "    plt.ylabel('Potential (V)')\n",
    "    plt.title('Event ' + str(EV))\n",
    "plt.tight_layout()\n",
    "#plt.savefig(\"V6.pdf\")\n",
    "plt.show()"
   ]
  },
  {
   "cell_type": "code",
   "execution_count": null,
   "metadata": {},
   "outputs": [],
   "source": [
    "fig, ax = plt.subplots(6, 2)\n",
    "#fig size\n",
    "#fig.set_size_inches(12, 11)\n",
    "\n",
    "# plot potential vs. time\n",
    "for EV in range(1, 13):\n",
    "    #plot in a matrix\n",
    "    plt.subplot(6, 2, EV)\n",
    "    #plt.scatter(data['Time'][data['Event'] == EV], data['V(t)_6'][data['Event'] == EV], c='b', marker='.',s=2)\n",
    "\n",
    "    plt.plot(data['Time'][data['Event'] == EV], data['V(t)_0'][data['Event'] == EV], c='purple', marker='None', alpha=0.5)\n",
    "    plt.plot(data['Time'][data['Event'] == EV], data['V(t)_1'][data['Event'] == EV], c='red', marker='None', alpha=0.5)\n",
    "    plt.plot(data['Time'][data['Event'] == EV], data['V(t)_2'][data['Event'] == EV], c='orange', marker='None', alpha=0.5)\n",
    "    plt.plot(data['Time'][data['Event'] == EV], data['V(t)_3'][data['Event'] == EV], c='black', marker='None', alpha=0.5)\n",
    "    plt.plot(data['Time'][data['Event'] == EV], data['V(t)_4'][data['Event'] == EV], c='green', marker='None', alpha=0.5)\n",
    "    plt.plot(data['Time'][data['Event'] == EV], data['V(t)_5'][data['Event'] == EV], c='blue', marker='None', alpha=0.5)\n",
    "\n",
    "    # if EV == 4:\n",
    "    #     plt.xlim(0.97e-7, 1e-7)\n",
    "\n",
    "    #plot threshold\n",
    "    plt.axhline(y=0.1, color='r', linestyle='-')\n",
    "    plt.xlabel('Time (s)')\n",
    "    plt.ylabel('Potential (V)')\n",
    "    plt.title('Event ' + str(EV))\n",
    "plt.tight_layout()\n",
    "#plt.savefig(\"V6.pdf\")\n",
    "plt.show()"
   ]
  },
  {
   "cell_type": "code",
   "execution_count": null,
   "metadata": {},
   "outputs": [],
   "source": [
    "fig, ax = plt.subplots(1, 1)\n",
    "EV=1\n",
    "plt.plot(data['Time'][data['Event'] == EV], data['V(t)_6'][data['Event'] == EV], c='purple', marker='None', alpha=0.5, label='V(t)_6')\n",
    "plt.plot(data['Time'][data['Event'] == EV], data['V(t)_7'][data['Event'] == EV], c='red', marker='None', alpha=0.5, label='V(t)_7')\n",
    "plt.plot(data['Time'][data['Event'] == EV], data['V(t)_8'][data['Event'] == EV], c='orange', marker='None', alpha=0.5, label='V(t)_8')\n",
    "plt.plot(data['Time'][data['Event'] == EV], data['V(t)_9'][data['Event'] == EV], c='black', marker='None', alpha=0.5, label='V(t)_9')\n",
    "plt.plot(data['Time'][data['Event'] == EV], data['V(t)_10'][data['Event'] == EV], c='green', marker='None', alpha=0.5, label='V(t)_10')\n",
    "plt.plot(data['Time'][data['Event'] == EV], data['V(t)_11'][data['Event'] == EV], c='blue', marker='None', alpha=0.5, label='V(t)_11')\n",
    "\n",
    "plt.axhline(y=0.1, color='r', linestyle='-', label=\"Threshold\")\n",
    "plt.legend()\n",
    "plt.xlabel('Time (s)')\n",
    "plt.ylabel('Potential (V)')\n",
    "plt.grid()\n",
    "plt.title('Event ' + str(EV))\n",
    "plt.to_pdf(\"Event1_randomw.pdf\")\n",
    "plt.show()"
   ]
  },
  {
   "cell_type": "code",
   "execution_count": null,
   "metadata": {},
   "outputs": [],
   "source": []
  }
 ],
 "metadata": {
  "kernelspec": {
   "display_name": "Python 3",
   "language": "python",
   "name": "python3"
  },
  "language_info": {
   "codemirror_mode": {
    "name": "ipython",
    "version": 3
   },
   "file_extension": ".py",
   "mimetype": "text/x-python",
   "name": "python",
   "nbconvert_exporter": "python",
   "pygments_lexer": "ipython3",
   "version": "3.10.12"
  }
 },
 "nbformat": 4,
 "nbformat_minor": 2
}
