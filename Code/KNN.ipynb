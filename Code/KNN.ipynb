{
 "cells": [
  {
   "cell_type": "code",
   "execution_count": 162,
   "metadata": {},
   "outputs": [],
   "source": [
    "#import libraries\n",
    "import numpy as np\n",
    "import pandas as pd\n",
    "import matplotlib.pyplot as plt\n",
    "import seaborn as sns\n",
    "import scipy.stats as stats\n"
   ]
  },
  {
   "cell_type": "code",
   "execution_count": 163,
   "metadata": {},
   "outputs": [
    {
     "data": {
      "text/html": [
       "<div>\n",
       "<style scoped>\n",
       "    .dataframe tbody tr th:only-of-type {\n",
       "        vertical-align: middle;\n",
       "    }\n",
       "\n",
       "    .dataframe tbody tr th {\n",
       "        vertical-align: top;\n",
       "    }\n",
       "\n",
       "    .dataframe thead th {\n",
       "        text-align: right;\n",
       "    }\n",
       "</style>\n",
       "<table border=\"1\" class=\"dataframe\">\n",
       "  <thead>\n",
       "    <tr style=\"text-align: right;\">\n",
       "      <th></th>\n",
       "      <th>Event</th>\n",
       "      <th>ID</th>\n",
       "      <th>Stream</th>\n",
       "      <th>Time</th>\n",
       "      <th>Pclass</th>\n",
       "    </tr>\n",
       "  </thead>\n",
       "  <tbody>\n",
       "    <tr>\n",
       "      <th>count</th>\n",
       "      <td>5025.000000</td>\n",
       "      <td>5025.000000</td>\n",
       "      <td>5025.000000</td>\n",
       "      <td>5.025000e+03</td>\n",
       "      <td>5025.000000</td>\n",
       "    </tr>\n",
       "    <tr>\n",
       "      <th>mean</th>\n",
       "      <td>17759.389652</td>\n",
       "      <td>1.189055</td>\n",
       "      <td>10.920796</td>\n",
       "      <td>6.061039e-07</td>\n",
       "      <td>2.437612</td>\n",
       "    </tr>\n",
       "    <tr>\n",
       "      <th>std</th>\n",
       "      <td>147.430801</td>\n",
       "      <td>0.391591</td>\n",
       "      <td>5.710723</td>\n",
       "      <td>3.519130e-07</td>\n",
       "      <td>1.751745</td>\n",
       "    </tr>\n",
       "    <tr>\n",
       "      <th>min</th>\n",
       "      <td>17500.000000</td>\n",
       "      <td>1.000000</td>\n",
       "      <td>0.000000</td>\n",
       "      <td>6.366460e-11</td>\n",
       "      <td>0.000000</td>\n",
       "    </tr>\n",
       "    <tr>\n",
       "      <th>25%</th>\n",
       "      <td>17631.000000</td>\n",
       "      <td>1.000000</td>\n",
       "      <td>6.000000</td>\n",
       "      <td>2.962990e-07</td>\n",
       "      <td>1.000000</td>\n",
       "    </tr>\n",
       "    <tr>\n",
       "      <th>50%</th>\n",
       "      <td>17769.000000</td>\n",
       "      <td>1.000000</td>\n",
       "      <td>10.000000</td>\n",
       "      <td>6.096430e-07</td>\n",
       "      <td>2.000000</td>\n",
       "    </tr>\n",
       "    <tr>\n",
       "      <th>75%</th>\n",
       "      <td>17897.000000</td>\n",
       "      <td>1.000000</td>\n",
       "      <td>16.000000</td>\n",
       "      <td>8.945990e-07</td>\n",
       "      <td>4.000000</td>\n",
       "    </tr>\n",
       "    <tr>\n",
       "      <th>max</th>\n",
       "      <td>17996.000000</td>\n",
       "      <td>2.000000</td>\n",
       "      <td>20.000000</td>\n",
       "      <td>1.243070e-06</td>\n",
       "      <td>5.000000</td>\n",
       "    </tr>\n",
       "  </tbody>\n",
       "</table>\n",
       "</div>"
      ],
      "text/plain": [
       "              Event           ID       Stream          Time       Pclass\n",
       "count   5025.000000  5025.000000  5025.000000  5.025000e+03  5025.000000\n",
       "mean   17759.389652     1.189055    10.920796  6.061039e-07     2.437612\n",
       "std      147.430801     0.391591     5.710723  3.519130e-07     1.751745\n",
       "min    17500.000000     1.000000     0.000000  6.366460e-11     0.000000\n",
       "25%    17631.000000     1.000000     6.000000  2.962990e-07     1.000000\n",
       "50%    17769.000000     1.000000    10.000000  6.096430e-07     2.000000\n",
       "75%    17897.000000     1.000000    16.000000  8.945990e-07     4.000000\n",
       "max    17996.000000     2.000000    20.000000  1.243070e-06     5.000000"
      ]
     },
     "execution_count": 163,
     "metadata": {},
     "output_type": "execute_result"
    }
   ],
   "source": [
    "file = '/Users/Fabio/Desktop/CMS-SpikingNeuralNetwork/Code/MODE/CSV/NL0=6_NL1=6_NCl=6_CF01=1.00_CFI0=1.00_CFI1=1.00_alfa=0.50_output.csv'\n",
    "data_pd = pd.read_csv(file) #NEW WORKs\n",
    "# data_pd = pd.read_csv(\"NL0=20_NL1=20_NCl=6_CF01=1.00_CFI0=1.00_CFI1=1.00_alfa=0.90_output.csv\") #OLD WORKS\n",
    "data_pd.describe()\n"
   ]
  },
  {
   "cell_type": "code",
   "execution_count": 164,
   "metadata": {},
   "outputs": [
    {
     "name": "stdout",
     "output_type": "stream",
     "text": [
      "Index(['Event', 'ID', 'Stream', 'Time', 'Pclass'], dtype='object')\n"
     ]
    }
   ],
   "source": [
    "print(data_pd.keys())"
   ]
  },
  {
   "cell_type": "markdown",
   "metadata": {},
   "source": [
    "Preprocess"
   ]
  },
  {
   "cell_type": "code",
   "execution_count": 165,
   "metadata": {},
   "outputs": [],
   "source": [
    "data = dict()\n",
    "for col in data_pd.columns:\n",
    "    data[col] = data_pd[col].values"
   ]
  },
  {
   "cell_type": "code",
   "execution_count": 166,
   "metadata": {},
   "outputs": [],
   "source": [
    "#moltiply data['Stream'] by -1 if it a track (data['id'] == 1)\n",
    "data['Stream'] = np.where(data['ID'] == 1, -1*data['Stream'], data['Stream'])"
   ]
  },
  {
   "cell_type": "markdown",
   "metadata": {},
   "source": [
    "Plots"
   ]
  },
  {
   "cell_type": "code",
   "execution_count": 167,
   "metadata": {},
   "outputs": [
    {
     "data": {
      "text/plain": [
       "<matplotlib.lines.Line2D at 0x17f704b50>"
      ]
     },
     "execution_count": 167,
     "metadata": {},
     "output_type": "execute_result"
    },
    {
     "data": {
      "image/png": "[encoded data removed]",
      "text/plain": [
       "<Figure size 640x480 with 1 Axes>"
      ]
     },
     "metadata": {},
     "output_type": "display_data"
    }
   ],
   "source": [
    "class_mask = data_pd['Pclass'] == 2\n",
    "plt.scatter(data['Time'][class_mask], data['Stream'][class_mask] , s=4)\n",
    "# plt.xlim(1e-7, 7.25e-7)\n",
    "plt.axhline(0, c = 'r')"
   ]
  },
  {
   "cell_type": "markdown",
   "metadata": {},
   "source": [
    "## Looking at one single event"
   ]
  },
  {
   "cell_type": "code",
   "execution_count": 168,
   "metadata": {},
   "outputs": [
    {
     "data": {
      "text/plain": [
       "17979"
      ]
     },
     "execution_count": 168,
     "metadata": {},
     "output_type": "execute_result"
    }
   ],
   "source": [
    "N_EV = np.unique(data['Event'][data['Pclass'] == 5])[-3]\n",
    "N_EV"
   ]
  },
  {
   "cell_type": "code",
   "execution_count": 169,
   "metadata": {},
   "outputs": [],
   "source": [
    "#select an event using data_dict['Event']\n",
    "mask_ev1 = data['Event'] == N_EV\n",
    "\n",
    "ev1 = {}\n",
    "for k in data_pd.keys():\n",
    "    ev1[k] = data[k][mask_ev1]\n"
   ]
  },
  {
   "cell_type": "code",
   "execution_count": 170,
   "metadata": {},
   "outputs": [
    {
     "data": {
      "text/plain": [
       "array([7.46651e-07, 7.46710e-07, 7.46710e-07])"
      ]
     },
     "execution_count": 170,
     "metadata": {},
     "output_type": "execute_result"
    }
   ],
   "source": [
    "t_track = ev1['Time'][ev1['ID'] == 1]\n",
    "t_neur = ev1['Time'][ev1['ID'] == 2]\n",
    "t_neur"
   ]
  },
  {
   "cell_type": "code",
   "execution_count": 171,
   "metadata": {},
   "outputs": [
    {
     "data": {
      "text/plain": [
       "array([ 3,  8, 10])"
      ]
     },
     "execution_count": 171,
     "metadata": {},
     "output_type": "execute_result"
    }
   ],
   "source": [
    "ev1['Stream'][ev1['ID'] == 2]"
   ]
  },
  {
   "cell_type": "code",
   "execution_count": 172,
   "metadata": {},
   "outputs": [
    {
     "data": {
      "image/png": "[encoded data removed]",
      "text/plain": [
       "<Figure size 640x480 with 1 Axes>"
      ]
     },
     "metadata": {},
     "output_type": "display_data"
    }
   ],
   "source": [
    "plt.scatter(t_track, ev1['Stream'][ev1['ID'] == 1], s=5)\n",
    "plt.scatter(t_neur, ev1['Stream'][ev1['ID'] == 2], c='g', s = 20)\n",
    "plt.ylim(-25,12)\n",
    "plt.axhline(0, c = 'r')\n",
    "plt.xlabel('Time')\n",
    "plt.ylabel('Stream')\n",
    "plt.show()\n",
    "#plot the grid on x and y\n"
   ]
  },
  {
   "cell_type": "code",
   "execution_count": 173,
   "metadata": {},
   "outputs": [
    {
     "data": {
      "text/plain": [
       "array([ 3,  8, 10])"
      ]
     },
     "execution_count": 173,
     "metadata": {},
     "output_type": "execute_result"
    }
   ],
   "source": [
    "hit_neur = ev1['Stream'][ev1['ID'] == 2]\n",
    "hit_neur"
   ]
  },
  {
   "cell_type": "markdown",
   "metadata": {},
   "source": [
    "Every spike that arrives induces a change in the membrane potential according to a certain function.\\\n",
    "These changes are smoothed to zero after a time of 7 τ from the arrival of the impulse.\\\n",
    "So, when the neuron receives the last hit of the trace, after a time of 7 τ, the effect of that impulse on the membrane potential is automatically zero."
   ]
  },
  {
   "cell_type": "code",
   "execution_count": 174,
   "metadata": {},
   "outputs": [],
   "source": [
    "tau = 1e-9"
   ]
  },
  {
   "cell_type": "code",
   "execution_count": 175,
   "metadata": {},
   "outputs": [
    {
     "data": {
      "text/plain": [
       "array([ True,  True,  True])"
      ]
     },
     "execution_count": 175,
     "metadata": {},
     "output_type": "execute_result"
    }
   ],
   "source": [
    "min_t_track = np.min(t_track)- 7*tau\n",
    "max_t_track = np.max(t_track)+ 7*tau\n",
    "\n",
    "mask_sel_neur = np.logical_and(t_neur>min_t_track, t_neur<max_t_track)\n",
    "mask_sel_neur"
   ]
  },
  {
   "cell_type": "code",
   "execution_count": 176,
   "metadata": {},
   "outputs": [
    {
     "name": "stdout",
     "output_type": "stream",
     "text": [
      "(12,)\n",
      "[ 1  2  3  4  5  6  7  8  9 10 11 12]\n"
     ]
    },
    {
     "data": {
      "text/plain": [
       "array([0, 0, 1, 0, 0, 0, 0, 1, 0, 1, 0])"
      ]
     },
     "execution_count": 176,
     "metadata": {},
     "output_type": "execute_result"
    }
   ],
   "source": [
    "#Using min_t_track and max_t_track,let's bin in 10 bins the time interval and put the hits of neuron inside the bins\n",
    "n_bins = 12\n",
    "bins = np.arange(1, n_bins+1)\n",
    "\n",
    "print(bins.shape)\n",
    "print(bins)\n",
    "hist_y, bin_edges_y = np.histogram(hit_neur[mask_sel_neur], bins=bins)\n",
    "hist_y\n"
   ]
  },
  {
   "cell_type": "code",
   "execution_count": 177,
   "metadata": {},
   "outputs": [
    {
     "data": {
      "image/png": "[encoded data removed]",
      "text/plain": [
       "<Figure size 640x480 with 1 Axes>"
      ]
     },
     "metadata": {},
     "output_type": "display_data"
    }
   ],
   "source": [
    "# now the same plt but with filled zoned in red where i excluded the points\n",
    "plt.scatter(t_track, ev1['Stream'][ev1['ID'] == 1], s=5)\n",
    "plt.scatter(t_neur[mask_sel_neur], hit_neur[mask_sel_neur], c='g', s = 5)\n",
    "plt.ylim(-25,40)\n",
    "plt.axvspan(min_t_track, max_t_track, alpha=0.3, color='green')\n",
    "\n",
    "plt.show()"
   ]
  },
  {
   "cell_type": "markdown",
   "metadata": {},
   "source": [
    "## For every event"
   ]
  },
  {
   "cell_type": "code",
   "execution_count": 178,
   "metadata": {},
   "outputs": [],
   "source": [
    "def get_hist_neuron(N_EV, data, N_NEUR):\n",
    "\n",
    "    \"\"\"\n",
    "    This function returns the histogram of the neuron hits inside the track of the particle\n",
    "    \"\"\"\n",
    "    #select an event using data_dict['Event']\n",
    "    mask_ev1 = data['Event'] == N_EV\n",
    "    \n",
    "    ev1 = {}\n",
    "\n",
    "    for k in data.keys():\n",
    "        ev1[k] = data[k][mask_ev1]\n",
    "\n",
    "    t_track = ev1['Time'][ev1['ID'] == 1]\n",
    "\n",
    "    t_neur = ev1['Time'][ev1['ID'] == 2]\n",
    "    hit_neur = ev1['Stream'][ev1['ID'] == 2]\n",
    "\n",
    "    min_t_track = np.min(t_track) - 0.01e-7\n",
    "    max_t_track = np.max(t_track) + 0.01e-7\n",
    "    mask_sel_neur = np.logical_and(t_neur>min_t_track, t_neur<max_t_track)\n",
    "\n",
    "    bins = np.arange(0, N_NEUR+1)\n",
    "\n",
    "    #now check if inside the t_neuron there are values inside the bins\n",
    "    hist, bin_edges = np.histogram(hit_neur[mask_sel_neur], bins=bins)\n",
    "\n",
    "    return hist\n"
   ]
  },
  {
   "cell_type": "code",
   "execution_count": 179,
   "metadata": {},
   "outputs": [
    {
     "data": {
      "text/plain": [
       "array([0, 0, 0, 1, 0, 0, 0, 0, 1, 0, 1, 0])"
      ]
     },
     "execution_count": 179,
     "metadata": {},
     "output_type": "execute_result"
    }
   ],
   "source": [
    "get_hist_neuron(N_EV, data, 12)"
   ]
  },
  {
   "cell_type": "code",
   "execution_count": 180,
   "metadata": {},
   "outputs": [],
   "source": [
    "N_EV_class0 = np.unique(data['Event'][data['Pclass'] == 0])\n",
    "N_EV_class1 = np.unique(data['Event'][data['Pclass'] == 1])\n",
    "N_EV_class2 = np.unique(data['Event'][data['Pclass'] == 2])\n",
    "N_EV_class3 = np.unique(data['Event'][data['Pclass'] == 3])\n",
    "N_EV_class4 = np.unique(data['Event'][data['Pclass'] == 4])\n",
    "N_EV_class5 = np.unique(data['Event'][data['Pclass'] == 5])"
   ]
  },
  {
   "cell_type": "code",
   "execution_count": 181,
   "metadata": {},
   "outputs": [
    {
     "data": {
      "image/png": "[encoded data removed]",
      "text/plain": [
       "<Figure size 1200x900 with 36 Axes>"
      ]
     },
     "metadata": {},
     "output_type": "display_data"
    }
   ],
   "source": [
    "N_NEUR = 12 \n",
    "\n",
    "hist0 = np.zeros(N_NEUR)\n",
    "hist1 = np.zeros(N_NEUR)\n",
    "hist2 = np.zeros(N_NEUR)\n",
    "hist3 = np.zeros(N_NEUR)\n",
    "hist4 = np.zeros(N_NEUR)\n",
    "hist5 = np.zeros(N_NEUR)\n",
    "\n",
    "H0 = []\n",
    "H1 = []\n",
    "H2 = []\n",
    "H3 = []\n",
    "H4 = []\n",
    "H5 = []\n",
    "\n",
    "for EV in N_EV_class0:\n",
    "    hist0 = hist0 + get_hist_neuron(EV, data,N_NEUR)\n",
    "    H0.append(get_hist_neuron(EV, data,N_NEUR))\n",
    "\n",
    "\n",
    "for EV in N_EV_class1:\n",
    "    hist1 = hist1 + get_hist_neuron(EV, data,N_NEUR)\n",
    "    H1.append(get_hist_neuron(EV, data,N_NEUR))\n",
    "\n",
    "\n",
    "\n",
    "for EV in N_EV_class2:\n",
    "    hist2 = hist2 + get_hist_neuron(EV, data,N_NEUR)\n",
    "    H2.append(get_hist_neuron(EV, data,N_NEUR))\n",
    "\n",
    "\n",
    "\n",
    "for EV in N_EV_class3:\n",
    "    hist3 = hist3 + get_hist_neuron(EV, data,N_NEUR)\n",
    "    H3.append(get_hist_neuron(EV, data,N_NEUR))\n",
    "\n",
    "\n",
    "\n",
    "\n",
    "for EV in N_EV_class4:\n",
    "    hist4 = hist4 + get_hist_neuron(EV, data,N_NEUR)\n",
    "    H4.append(get_hist_neuron(EV, data,N_NEUR))\n",
    "\n",
    "\n",
    "\n",
    "for EV in N_EV_class5:\n",
    "    hist5 = hist5 + get_hist_neuron(EV, data,N_NEUR)\n",
    "    H5.append(get_hist_neuron(EV, data,N_NEUR))\n",
    "\n",
    "\n",
    "HISTS = [hist0, hist1, hist2, hist3, hist4, hist5]\n",
    "HISTS = np.array(HISTS)\n",
    "\n",
    "COLORS = ['b', 'g', 'r', 'magenta', 'yellow', 'cyan']\n",
    "\n",
    "#Now create a matrix plot comparing hist_i and hist_j\n",
    "plt.subplots(6,6, figsize=(12,9))\n",
    "for i in range(6):\n",
    "    for j in range(6):\n",
    "        plt.subplot(6,6,6*i+j+1)\n",
    "        plt.bar(np.arange(len(HISTS[i])),HISTS[i], color = COLORS[i], alpha = 0.6)\n",
    "        plt.bar(np.arange(len(HISTS[j])),HISTS[j], color = COLORS[j], alpha = 0.6)\n",
    "        plt.xticks([])\n",
    "\n",
    "        #I want the labels only on the right and on the top\n",
    "        if j == 0:\n",
    "            plt.ylabel('Class {}'.format(i))\n",
    "        if i == 5:\n",
    "            plt.xlabel('Class {}'.format(j))\n",
    "        #plot the axes on every histo\n",
    "\n",
    "            \n",
    "\n",
    "plt.tight_layout()"
   ]
  },
  {
   "cell_type": "code",
   "execution_count": 182,
   "metadata": {},
   "outputs": [],
   "source": [
    "H = H0 + H1 + H2 + H3 + H4 + H5\n",
    "\n",
    "label = []\n",
    "for i in range(len(H0)):\n",
    "    label.append(0)\n",
    "for i in range(len(H1)):\n",
    "    label.append(1)\n",
    "for i in range(len(H2)):\n",
    "    label.append(2)\n",
    "for i in range(len(H3)):\n",
    "    label.append(3)\n",
    "for i in range(len(H4)):\n",
    "    label.append(4)\n",
    "for i in range(len(H5)):\n",
    "    label.append(5)\n",
    "\n",
    "label = np.array(label)\n"
   ]
  }
 ],
 "metadata": {
  "kernelspec": {
   "display_name": "Python 3",
   "language": "python",
   "name": "python3"
  },
  "language_info": {
   "codemirror_mode": {
    "name": "ipython",
    "version": 3
   },
   "file_extension": ".py",
   "mimetype": "text/x-python",
   "name": "python",
   "nbconvert_exporter": "python",
   "pygments_lexer": "ipython3",
   "version": "3.11.4"
  }
 },
 "nbformat": 4,
 "nbformat_minor": 2
}
